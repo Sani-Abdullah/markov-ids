{
 "cells": [
  {
   "cell_type": "code",
   "execution_count": 40,
   "metadata": {},
   "outputs": [],
   "source": [
    "# Name: Abdullahi Sani Shuaibu\n",
    "# ID: 202303370\n",
    "# Project: Embedded Markov Proces based Model for Performance Analysis of IDPS \n",
    "# Course: COE 520 (Queuing Theory and Network Applications)\n",
    "# Instructor: Dr. Mohammad Abdurazzak Felemban\n",
    "# Term: 231\n",
    "# Date: 6 October, 2023"
   ]
  },
  {
   "cell_type": "markdown",
   "metadata": {},
   "source": [
    "### Constants"
   ]
  },
  {
   "cell_type": "code",
   "execution_count": 41,
   "metadata": {},
   "outputs": [],
   "source": [
    "L = 3 # L-1 is queue length\n",
    "p = 0.3 # probability of early decision\n",
    "r = 1 - p # probability of content checking"
   ]
  },
  {
   "cell_type": "markdown",
   "metadata": {},
   "source": [
    "### Settings"
   ]
  },
  {
   "cell_type": "code",
   "execution_count": 42,
   "metadata": {},
   "outputs": [],
   "source": [
    "micro = 10**-6;\n",
    "settings  = {\n",
    "    1: {'alpha': (1/0.5)*micro, 'mu': (1/4)*micro},\n",
    "    2: {'alpha': (1/0.5)*micro, 'mu': (1/8)*micro},\n",
    "    3: {'alpha': (1/0.5)*micro, 'mu': (1/12)*micro},\n",
    "    4: {'alpha': (1/5.0)*micro, 'mu': (1/12)*micro},\n",
    "    }"
   ]
  },
  {
   "cell_type": "markdown",
   "metadata": {},
   "source": [
    "### Coefficients"
   ]
  },
  {
   "cell_type": "code",
   "execution_count": 43,
   "metadata": {},
   "outputs": [],
   "source": [
    "w01 = w02 = 1\n",
    "w11 = lambda setting, lam: ((setting['alpha'] + lam)*lam)/((setting['alpha'] + p)*setting['mu'])\n",
    "w12 = lambda setting, lam: (lam - p*lam)/(setting['alpha'] + p*lam)\n",
    "\n",
    "def wn1(n, setting, lam):\n",
    "    \"\"\" for 2 <= n < L \"\"\"\n",
    "    if n == 0:\n",
    "        return w01\n",
    "    if n == 1:\n",
    "        return w11(setting, lam)\n",
    "    return (((setting['alpha'] + lam)*(lam + setting['mu']))/((p*lam + setting['alpha'])*setting['mu']))*wn1(n-1, setting, lam) - ((lam + setting['alpha'])/(lam*p + setting['alpha']))*wn1(n-2, setting, lam) - ((lam*setting['alpha'])/((lam*p + setting['alpha'])*setting['mu']))*wn2(n-1, setting, lam)\n",
    "\n",
    "def wn2(n, setting, lam):\n",
    "    \"\"\" for 2 <= n < L \"\"\"\n",
    "    if n == 0:\n",
    "        return w02\n",
    "    if n == 1:\n",
    "        return w12(setting, lam)\n",
    "    return (lam/(lam + setting['alpha']))*wn2(n-1, setting, lam) + (((1 - p)*setting['mu'])/(lam + setting['alpha']))*wn1(n, setting, lam)\n",
    "\n",
    "# print(wn1(15, settings[1], 5))\n",
    "# print(wn2(15, settings[1], 5))"
   ]
  },
  {
   "cell_type": "markdown",
   "metadata": {},
   "source": [
    "### Probabilities"
   ]
  },
  {
   "cell_type": "code",
   "execution_count": 44,
   "metadata": {},
   "outputs": [
    {
     "name": "stdout",
     "output_type": "stream",
     "text": [
      "q00:  8.437567992261056e-26\n",
      "q21:  7.500006624996918e-09\n",
      "q22:  1.312500636342969e-16\n"
     ]
    }
   ],
   "source": [
    "q00 = lambda setting, lam: 1/(1 + sum([wn1(n, setting, lam) + wn2(n, setting, lam) for n in range(1, L+1)]))\n",
    "\n",
    "def qn1(n, setting, lam):\n",
    "    if n == L and L > 1:\n",
    "        return ((lam)/(setting['mu']))*wn1(L-1, setting, lam)*q00(setting, lam)\n",
    "    if n == L and L == 1:\n",
    "        return ((lam)/(setting['mu']))*q00(setting, lam)\n",
    "    return wn1(n, setting, lam)*q00(setting, lam)\n",
    "    \n",
    "def qn2(n, setting, lam):\n",
    "    if n == L and L > 1:\n",
    "        return ((lam)/(setting['alpha']))*(wn2(L-1, setting, lam) + (1-p)*wn1(L-1, setting, lam))*q00(setting, lam)\n",
    "    if n == L and L == 1:\n",
    "        return ((1-p)*lam)/(setting['alpha'])*q00(setting, lam)\n",
    "    return wn2(n, setting, lam)*q00(setting, lam)\n",
    "    \n",
    "# print('q00: ', q00(settings[2], 5))\n",
    "# print('q21: ', qn1(2, settings[2], 5))\n",
    "# print('q22: ', qn2(2, settings[2], 5))"
   ]
  },
  {
   "cell_type": "markdown",
   "metadata": {},
   "source": [
    "## Performance Metrices"
   ]
  },
  {
   "cell_type": "markdown",
   "metadata": {},
   "source": [
    "#### Throughput"
   ]
  },
  {
   "cell_type": "code",
   "execution_count": null,
   "metadata": {},
   "outputs": [],
   "source": [
    "def throughput(setting, lam):\n",
    "    return p*setting['mu']*sum([qn1(n, setting, lam) for n in range(1, L+1)]) + setting['alpha']*sum([qn2(n, setting, lam) for n in range(1, L+1)])"
   ]
  },
  {
   "cell_type": "markdown",
   "metadata": {},
   "source": [
    "#### Probability of Packet Loss"
   ]
  },
  {
   "cell_type": "code",
   "execution_count": null,
   "metadata": {},
   "outputs": [],
   "source": [
    "def ppl(setting, lam):\n",
    "    return qn1(L, setting, lam) + qn2(L, setting, lam)"
   ]
  },
  {
   "cell_type": "markdown",
   "metadata": {},
   "source": [
    "#### Average Number of Packets in the System"
   ]
  },
  {
   "cell_type": "code",
   "execution_count": null,
   "metadata": {},
   "outputs": [],
   "source": [
    "def avgn(setting, lam):\n",
    "    return sum([n*(qn1(n, setting, lam) + qn2(n, setting, lam)) for n in range(1, L+1)])"
   ]
  },
  {
   "cell_type": "markdown",
   "metadata": {},
   "source": [
    "#### Average Packet Time in the System"
   ]
  },
  {
   "cell_type": "code",
   "execution_count": 45,
   "metadata": {},
   "outputs": [],
   "source": [
    "def avgt(setting, lam):\n",
    "    return avgn(setting, lam)/throughput(setting, lam)"
   ]
  },
  {
   "cell_type": "markdown",
   "metadata": {},
   "source": [
    "#### Average Service Time of the Two Stages"
   ]
  },
  {
   "cell_type": "code",
   "execution_count": null,
   "metadata": {},
   "outputs": [],
   "source": [
    "def avgst(setting):\n",
    "    return (1/setting['mu']) + ((1-p)/setting['alpha'])"
   ]
  },
  {
   "cell_type": "markdown",
   "metadata": {},
   "source": [
    "#### Average Packet Queue Time"
   ]
  },
  {
   "cell_type": "code",
   "execution_count": null,
   "metadata": {},
   "outputs": [],
   "source": [
    "def avgqt(setting, lam):\n",
    "    return avgt(setting, lam) - avgst(setting)"
   ]
  },
  {
   "cell_type": "markdown",
   "metadata": {},
   "source": [
    "## Visualizations for Security Levels (L=25, p=0.3)"
   ]
  },
  {
   "cell_type": "markdown",
   "metadata": {},
   "source": [
    "### Throughput"
   ]
  },
  {
   "cell_type": "code",
   "execution_count": null,
   "metadata": {},
   "outputs": [],
   "source": []
  },
  {
   "cell_type": "markdown",
   "metadata": {},
   "source": [
    "### Packet Loss Ratio"
   ]
  },
  {
   "cell_type": "code",
   "execution_count": null,
   "metadata": {},
   "outputs": [],
   "source": []
  },
  {
   "cell_type": "markdown",
   "metadata": {},
   "source": [
    "### Average Packet Time in System"
   ]
  },
  {
   "cell_type": "code",
   "execution_count": null,
   "metadata": {},
   "outputs": [],
   "source": []
  },
  {
   "cell_type": "markdown",
   "metadata": {},
   "source": [
    "## Visualizations for System Population (Security Level 1, p=0.3)"
   ]
  },
  {
   "cell_type": "markdown",
   "metadata": {},
   "source": [
    "### Throughput"
   ]
  },
  {
   "cell_type": "code",
   "execution_count": null,
   "metadata": {},
   "outputs": [],
   "source": []
  },
  {
   "cell_type": "markdown",
   "metadata": {},
   "source": [
    "### Packet Loss Ratio"
   ]
  },
  {
   "cell_type": "code",
   "execution_count": null,
   "metadata": {},
   "outputs": [],
   "source": []
  },
  {
   "cell_type": "markdown",
   "metadata": {},
   "source": [
    "### Average Packet Time in System"
   ]
  },
  {
   "cell_type": "code",
   "execution_count": null,
   "metadata": {},
   "outputs": [],
   "source": []
  }
 ],
 "metadata": {
  "kernelspec": {
   "display_name": "data",
   "language": "python",
   "name": "python3"
  },
  "language_info": {
   "codemirror_mode": {
    "name": "ipython",
    "version": 3
   },
   "file_extension": ".py",
   "mimetype": "text/x-python",
   "name": "python",
   "nbconvert_exporter": "python",
   "pygments_lexer": "ipython3",
   "version": "3.7.13"
  }
 },
 "nbformat": 4,
 "nbformat_minor": 2
}
