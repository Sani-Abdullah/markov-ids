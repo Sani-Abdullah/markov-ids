{
 "cells": [
  {
   "cell_type": "code",
   "execution_count": 132,
   "metadata": {},
   "outputs": [],
   "source": [
    "# Name: Abdullahi Sani Shuaibu\n",
    "# ID: 202303370\n",
    "# Project: Embedded Markov Proces based Model for Performance Analysis of IDPS \n",
    "# Course: COE 520 (Queuing Theory and Network Applications)\n",
    "# Instructor: Dr. Mohammad Abdurazzak Felemban\n",
    "# Term: 231\n",
    "# Date: 6 October, 2023"
   ]
  },
  {
   "cell_type": "markdown",
   "metadata": {},
   "source": [
    "### Constants"
   ]
  },
  {
   "cell_type": "code",
   "execution_count": 149,
   "metadata": {},
   "outputs": [],
   "source": [
    "L = 3 # L-1 is queue length\n",
    "L_list = [5, 10, 25, 50, 100]\n",
    "p = 0.3 # probability of early decision\n",
    "p_list = [0.25, 0.5, 0.75, 0.9]\n",
    "r = 1 - p # probability of content checking\n",
    "lams = [lam for lam in range(0, 500, 25)]"
   ]
  },
  {
   "cell_type": "markdown",
   "metadata": {},
   "source": [
    "### Settings"
   ]
  },
  {
   "cell_type": "code",
   "execution_count": 134,
   "metadata": {},
   "outputs": [],
   "source": [
    "micro = 10**-6;\n",
    "settings  = {\n",
    "    1: {'alpha': (1/0.5)*micro, 'mu': (1/4)*micro},\n",
    "    2: {'alpha': (1/0.5)*micro, 'mu': (1/8)*micro},\n",
    "    3: {'alpha': (1/0.5)*micro, 'mu': (1/12)*micro},\n",
    "    4: {'alpha': (1/5.0)*micro, 'mu': (1/12)*micro},\n",
    "    }"
   ]
  },
  {
   "cell_type": "markdown",
   "metadata": {},
   "source": [
    "### Coefficients"
   ]
  },
  {
   "cell_type": "code",
   "execution_count": 135,
   "metadata": {},
   "outputs": [],
   "source": [
    "w01 = w02 = 1\n",
    "w11 = lambda setting, lam: ((setting['alpha'] + lam)*lam)/((setting['alpha'] + p*lam)*setting['mu'])\n",
    "w12 = lambda setting, lam: (lam - p*lam)/(setting['alpha'] + p*lam)\n",
    "\n",
    "def wn1(n, setting, lam):\n",
    "    \"\"\" for 2 <= n < L \"\"\"\n",
    "    if n == 0:\n",
    "        return w01\n",
    "    if n == 1:\n",
    "        return w11(setting, lam)\n",
    "    return (((setting['alpha'] + lam)*(lam + setting['mu']))/((p*lam + setting['alpha'])*setting['mu']))*wn1(n-1, setting, lam) - ((lam + setting['alpha'])/(lam*p + setting['alpha']))*wn1(n-2, setting, lam) - ((lam*setting['alpha'])/((lam*p + setting['alpha'])*setting['mu']))*wn2(n-1, setting, lam)\n",
    "\n",
    "def wn2(n, setting, lam):\n",
    "    \"\"\" for 2 <= n < L \"\"\"\n",
    "    if n == 0:\n",
    "        return w02\n",
    "    if n == 1:\n",
    "        return w12(setting, lam)\n",
    "    return (lam/(lam + setting['alpha']))*wn2(n-1, setting, lam) + (((1 - p)*setting['mu'])/(lam + setting['alpha']))*wn1(n, setting, lam)\n",
    "\n",
    "# print(wn1(15, settings[1], 5))\n",
    "# print(wn2(15, settings[1], 5))"
   ]
  },
  {
   "cell_type": "markdown",
   "metadata": {},
   "source": [
    "### Probabilities"
   ]
  },
  {
   "cell_type": "code",
   "execution_count": 136,
   "metadata": {},
   "outputs": [],
   "source": [
    "q00 = lambda setting, lam, L=L: 1/(1 + sum([wn1(n, setting, lam) + wn2(n, setting, lam) for n in range(1, L+1)]))\n",
    "\n",
    "def qn1(n, setting, lam, L=L, p=p): # p not needed\n",
    "    if n == L and L > 1:\n",
    "        return ((lam)/(setting['mu']))*wn1(L-1, setting, lam)*q00(setting, lam, L)\n",
    "    if n == L and L == 1:\n",
    "        return ((lam)/(setting['mu']))*q00(setting, lam, L)\n",
    "    return wn1(n, setting, lam)*q00(setting, lam, L)\n",
    "    \n",
    "def qn2(n, setting, lam, L=L, p=p):\n",
    "    if n == L and L > 1:\n",
    "        return ((lam)/(setting['alpha']))*(wn2(L-1, setting, lam) + (1-p)*wn1(L-1, setting, lam))*q00(setting, lam, L)\n",
    "    if n == L and L == 1:\n",
    "        return ((1-p)*lam)/(setting['alpha'])*q00(setting, lam, L)\n",
    "    return wn2(n, setting, lam)*q00(setting, lam, L)\n",
    "    \n",
    "# print('q00: ', q00(settings[2], 5))\n",
    "# print('q21: ', qn1(2, settings[2], 5))\n",
    "# print('q22: ', qn2(2, settings[2], 5))"
   ]
  },
  {
   "cell_type": "markdown",
   "metadata": {},
   "source": [
    "## Performance Metrices"
   ]
  },
  {
   "cell_type": "markdown",
   "metadata": {},
   "source": [
    "#### Throughput"
   ]
  },
  {
   "cell_type": "code",
   "execution_count": 137,
   "metadata": {},
   "outputs": [],
   "source": [
    "def throughput(setting, lam, L=L, p=p):\n",
    "    return p*setting['mu']*sum([qn1(n, setting, lam, L, p) for n in range(1, L+1)]) + setting['alpha']*sum([qn2(n, setting, lam, L, p) for n in range(1, L+1)])"
   ]
  },
  {
   "cell_type": "markdown",
   "metadata": {},
   "source": [
    "#### Probability of Packet Loss"
   ]
  },
  {
   "cell_type": "code",
   "execution_count": 138,
   "metadata": {},
   "outputs": [],
   "source": [
    "def ppl(setting, lam, L=L, p=p):\n",
    "    return qn1(L, setting, lam, L, p) + qn2(L, setting, lam, L, p)"
   ]
  },
  {
   "cell_type": "markdown",
   "metadata": {},
   "source": [
    "#### Average Number of Packets in the System"
   ]
  },
  {
   "cell_type": "code",
   "execution_count": 139,
   "metadata": {},
   "outputs": [],
   "source": [
    "def avgn(setting, lam, L=L, p=p):\n",
    "    return sum([n*(qn1(n, setting, lam, L, p) + qn2(n, setting, lam, L, p)) for n in range(1, L+1)])"
   ]
  },
  {
   "cell_type": "markdown",
   "metadata": {},
   "source": [
    "#### Average Packet Time in the System"
   ]
  },
  {
   "cell_type": "code",
   "execution_count": 140,
   "metadata": {},
   "outputs": [],
   "source": [
    "def avgt(setting, lam, L=L, p=p):\n",
    "    return avgn(setting, lam, L, p)/throughput(setting, lam, L, p)"
   ]
  },
  {
   "cell_type": "markdown",
   "metadata": {},
   "source": [
    "#### Average Service Time of the Two Stages"
   ]
  },
  {
   "cell_type": "code",
   "execution_count": 141,
   "metadata": {},
   "outputs": [],
   "source": [
    "def avgst(setting):\n",
    "    return (1/setting['mu']) + ((1-p)/setting['alpha'])"
   ]
  },
  {
   "cell_type": "markdown",
   "metadata": {},
   "source": [
    "#### Average Packet Queue Time"
   ]
  },
  {
   "cell_type": "code",
   "execution_count": 142,
   "metadata": {},
   "outputs": [],
   "source": [
    "def avgqt(setting, lam, L=L, p=p):\n",
    "    return avgt(setting, lam, L, p) - avgst(setting)"
   ]
  },
  {
   "cell_type": "markdown",
   "metadata": {},
   "source": [
    "## Generate Data"
   ]
  },
  {
   "cell_type": "code",
   "execution_count": null,
   "metadata": {},
   "outputs": [],
   "source": [
    "import csv\n",
    "import os\n",
    "import json\n",
    "\n",
    "# for k, v in settings.items():\n",
    "#     print(k, v)\n",
    "def data_gen(type='settings'):\n",
    "    data_dir = os.path.join('data', type)\n",
    "    if not os.path.exists(data_dir):\n",
    "        os.makedirs(data_dir)\n",
    "    \n",
    "    csv_path = os.path.join(data_dir, type + '.csv')\n",
    "    json_path = os.path.join(data_dir, type + '.json')\n",
    "    csv_file= open(csv_path, mode='w')\n",
    "    json_file= open(json_path, mode='w')\n",
    "        \n",
    "    csv_writer = csv.writer(csv_file, delimiter=',', quotechar='\"', quoting=csv.QUOTE_MINIMAL)\n",
    "    header = [str(lam) for lam in lams]\n",
    "\n",
    "    if type == 'settings':\n",
    "        data = {}\n",
    "        for setting in settings:\n",
    "            data[setting] = {}\n",
    "        for setting in settings:\n",
    "            for lam in lams:\n",
    "                this_point = {}\n",
    "                this_point['throughput'] = throughput(setting=settings[setting], lam=lam)\n",
    "                this_point['ppl'] = ppl(setting=settings[setting], lam=lam)\n",
    "                this_point['delay'] = avgt(setting=settings[setting], lam=lam)\n",
    "                data[setting].update({lam: this_point})\n",
    "\n",
    "            csv_writer.writerow([f'setting: {setting}'])\n",
    "            csv_writer.writerow(header)\n",
    "            throughputs = []\n",
    "            ppls = []\n",
    "            delays = []\n",
    "            for lam in data[setting]:\n",
    "                throughputs.append(data[setting][lam]['throughput'])\n",
    "                ppls.append(data[setting][lam]['ppl'])\n",
    "                delays.append(data[setting][lam]['delay'])\n",
    "            csv_writer.writerow(throughputs)\n",
    "            csv_writer.writerow(ppls)\n",
    "            csv_writer.writerow(delays)\n",
    "        json.dump(data, json_file)\n",
    "\n",
    "    if type == 'population':\n",
    "        data = {}\n",
    "        for population in L_list:\n",
    "            data[population] = {}\n",
    "        for population in L_list:\n",
    "            for lam in lams:\n",
    "                this_point = {}\n",
    "                this_point['throughput'] = throughput(setting=settings[1], lam=lam, L=population)\n",
    "                this_point['ppl'] = ppl(settings[1], lam, L=population)\n",
    "                this_point['delay'] = avgt(settings[1], lam, L=population)\n",
    "                data[population].update({lam: this_point})\n",
    "\n",
    "            csv_writer.writerow([f'population: {population}'])\n",
    "            csv_writer.writerow(header)\n",
    "            throughputs = []\n",
    "            ppls = []\n",
    "            delays = []\n",
    "            for lam in data[population]:\n",
    "                throughputs.append(data[population][lam]['throughput'])\n",
    "                ppls.append(data[population][lam]['ppl'])\n",
    "                delays.append(data[population][lam]['delay'])\n",
    "            csv_writer.writerow(throughputs)\n",
    "            csv_writer.writerow(ppls)\n",
    "            csv_writer.writerow(delays)\n",
    "        json.dump(data, json_file)\n",
    "\n",
    "    if type == 'probabilities':\n",
    "        data = {}\n",
    "        for prob in p_list:\n",
    "            data[prob] = {}\n",
    "        for prob in p_list:\n",
    "            for lam in lams:\n",
    "                this_point = {}\n",
    "                this_point['throughput'] = throughput(setting=settings[1], lam=lam, p=prob)\n",
    "                this_point['ppl'] = ppl(settings[1], lam, p=prob)\n",
    "                this_point['delay'] = avgt(settings[1], lam, p=prob)\n",
    "                data[prob].update({lam: this_point})\n",
    "\n",
    "            csv_writer.writerow([f'probability: {prob}'])\n",
    "            csv_writer.writerow(header)\n",
    "            throughputs = []\n",
    "            ppls = []\n",
    "            delays = []\n",
    "            for lam in data[prob]:\n",
    "                throughputs.append(data[prob][lam]['throughput'])\n",
    "                ppls.append(data[prob][lam]['ppl'])\n",
    "                delays.append(data[prob][lam]['delay'])\n",
    "            csv_writer.writerow(throughputs)\n",
    "            csv_writer.writerow(ppls)\n",
    "            csv_writer.writerow(delays)\n",
    "        json.dump(data, json_file)\n",
    "\n",
    "# for type in ['settings', 'probabilities', 'population']:\n",
    "#     data_gen(type=type)"
   ]
  },
  {
   "cell_type": "markdown",
   "metadata": {},
   "source": [
    "## Load Data"
   ]
  },
  {
   "cell_type": "code",
   "execution_count": 146,
   "metadata": {},
   "outputs": [],
   "source": [
    "import json\n",
    "import pandas as pd\n",
    "\n",
    "# settings\n",
    "data_json_settings = json.load(open('./data/settings/settings.json', 'r'))\n",
    "data_csv_settings = pd.read_csv('./data/settings/settings.csv')\n",
    "\n",
    "# probabilities\n",
    "data_json_probabilities = json.load(open('./data/probabilities/probabilities.json', 'r'))\n",
    "data_csv_probabilities = pd.read_csv('./data/probabilities/probabilities.csv')\n",
    "\n",
    "# population\n",
    "data_json_population = json.load(open('./data/population/population.json', 'r'))\n",
    "data_csv_population = pd.read_csv('./data/population/population.csv')"
   ]
  },
  {
   "cell_type": "markdown",
   "metadata": {},
   "source": [
    "## Extract Data"
   ]
  },
  {
   "cell_type": "code",
   "execution_count": null,
   "metadata": {},
   "outputs": [],
   "source": [
    "import numpy as np\n",
    "\n",
    "# lams = np.array(lams)\n",
    "\n",
    "# # settings\n",
    "# settings = {\n",
    "\n",
    "# }"
   ]
  },
  {
   "cell_type": "markdown",
   "metadata": {},
   "source": [
    "## Visualizations for Security Levels (L=25, p=0.3)"
   ]
  },
  {
   "cell_type": "code",
   "execution_count": 150,
   "metadata": {},
   "outputs": [],
   "source": [
    "import matplotlib.pyplot as plt"
   ]
  },
  {
   "cell_type": "markdown",
   "metadata": {},
   "source": [
    "### Throughput"
   ]
  },
  {
   "cell_type": "code",
   "execution_count": 152,
   "metadata": {},
   "outputs": [
    {
     "data": {
      "text/plain": [
       "array({'a': 1, 'b': 2}, dtype=object)"
      ]
     },
     "execution_count": 152,
     "metadata": {},
     "output_type": "execute_result"
    }
   ],
   "source": [
    "# plt.plot(lams, np.array([]))"
   ]
  },
  {
   "cell_type": "markdown",
   "metadata": {},
   "source": [
    "### Packet Loss Ratio"
   ]
  },
  {
   "cell_type": "code",
   "execution_count": null,
   "metadata": {},
   "outputs": [],
   "source": []
  },
  {
   "cell_type": "markdown",
   "metadata": {},
   "source": [
    "### Average Packet Time in System"
   ]
  },
  {
   "cell_type": "code",
   "execution_count": null,
   "metadata": {},
   "outputs": [],
   "source": []
  },
  {
   "cell_type": "markdown",
   "metadata": {},
   "source": [
    "## Visualizations for System Population (Security Level 1, p=0.3)"
   ]
  },
  {
   "cell_type": "markdown",
   "metadata": {},
   "source": [
    "### Throughput"
   ]
  },
  {
   "cell_type": "code",
   "execution_count": null,
   "metadata": {},
   "outputs": [],
   "source": []
  },
  {
   "cell_type": "markdown",
   "metadata": {},
   "source": [
    "### Packet Loss Ratio"
   ]
  },
  {
   "cell_type": "code",
   "execution_count": null,
   "metadata": {},
   "outputs": [],
   "source": []
  },
  {
   "cell_type": "markdown",
   "metadata": {},
   "source": [
    "### Average Packet Time in System"
   ]
  },
  {
   "cell_type": "code",
   "execution_count": null,
   "metadata": {},
   "outputs": [],
   "source": []
  }
 ],
 "metadata": {
  "kernelspec": {
   "display_name": "data",
   "language": "python",
   "name": "python3"
  },
  "language_info": {
   "codemirror_mode": {
    "name": "ipython",
    "version": 3
   },
   "file_extension": ".py",
   "mimetype": "text/x-python",
   "name": "python",
   "nbconvert_exporter": "python",
   "pygments_lexer": "ipython3",
   "version": "3.7.13"
  }
 },
 "nbformat": 4,
 "nbformat_minor": 2
}
